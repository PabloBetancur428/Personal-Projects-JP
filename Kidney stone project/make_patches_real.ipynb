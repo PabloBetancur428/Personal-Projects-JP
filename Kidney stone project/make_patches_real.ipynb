{
  "nbformat": 4,
  "nbformat_minor": 0,
  "metadata": {
    "colab": {
      "provenance": []
    },
    "kernelspec": {
      "name": "python3",
      "display_name": "Python 3"
    },
    "language_info": {
      "name": "python"
    }
  },
  "cells": [
    {
      "cell_type": "code",
      "execution_count": null,
      "metadata": {
        "id": "rmuiiW571q4o"
      },
      "outputs": [],
      "source": [
        "import glob\n",
        "import cv2\n",
        "import matplotlib.pyplot as plt\n",
        "import numpy as np\n",
        "import random\n",
        "import math as m\n",
        "import os\n",
        "import shutil\n",
        "import pandas as pd"
      ]
    },
    {
      "cell_type": "code",
      "source": [
        "from google.colab import drive\n",
        "drive.mount('/content/drive')"
      ],
      "metadata": {
        "id": "srfiovS71tfF",
        "colab": {
          "base_uri": "https://localhost:8080/"
        },
        "outputId": "f967ca67-c9be-4fe9-870c-2b275d555f9e"
      },
      "execution_count": null,
      "outputs": [
        {
          "output_type": "stream",
          "name": "stdout",
          "text": [
            "Mounted at /content/drive\n"
          ]
        }
      ]
    },
    {
      "cell_type": "code",
      "source": [
        "#@title Prueba\n",
        "\n",
        "ov=114\n",
        "window=256\n",
        "train='train'\n",
        "test='test'\n",
        "name_img=\"TypVa_6.jpg\"\n",
        "name_img2=\"TypVa_6.png\"\n",
        "#/content/drive/MyDrive/Kidney stones project/Michel Daudon (types and subtypes)/surface/Type Va/PixelLabelData/cystinebis.png\n",
        "dir_name=\"/content/drive/MyDrive/Kidney stones project/Michel Daudon (types and subtypes)/surface/Type Va/\"+name_img#cystinebis.jpg\"\n",
        "dir_gt=\"/content/drive/MyDrive/Kidney stones project/Michel Daudon (types and subtypes)/surface/Type Va/PixelLabelData/\"+name_img2#cystinebis.png\""
      ],
      "metadata": {
        "id": "6c2jP6RQ2G_4",
        "cellView": "form"
      },
      "execution_count": null,
      "outputs": []
    },
    {
      "cell_type": "code",
      "source": [
        "!rm -R /content/sample_data"
      ],
      "metadata": {
        "id": "5EmZf5D3walq"
      },
      "execution_count": null,
      "outputs": []
    },
    {
      "cell_type": "code",
      "source": [
        "sh_name=input(\"Train or Test: \")\n",
        "data=pd.read_excel(\"Phosphate de calcium (brushite - carbapatite)_section.xlsx\",sheet_name=sh_name)\n",
        "#cv2.imread(dir_name).shape\n",
        "#dir_name\n",
        "window=256\n",
        "data.shape"
      ],
      "metadata": {
        "colab": {
          "base_uri": "https://localhost:8080/"
        },
        "id": "NO9YbtSiCZUy",
        "outputId": "e4a7a6ad-8e16-4b8c-b3cd-52a6ba387d51"
      },
      "execution_count": null,
      "outputs": [
        {
          "name": "stdout",
          "output_type": "stream",
          "text": [
            "Train or Test: Train\n"
          ]
        },
        {
          "output_type": "execute_result",
          "data": {
            "text/plain": [
              "(18, 3)"
            ]
          },
          "metadata": {},
          "execution_count": 12
        }
      ]
    },
    {
      "cell_type": "code",
      "source": [
        "cont=0\n",
        "typec=input(\"folder name as it is in the drive:\")\n",
        "tt=input(\"train or test?\")\n",
        "#\"/content/drive/MyDrive/Jonathan El-Beze dataset with augmentations/Oxalate de calcium dihydrate (C2)/section/train/\"\n",
        "#dir_raw=\"/content/drive/MyDrive/Kidney stones project/Jonathan El-Beze dataset/\"\n",
        "dir_raw=\"/content/drive/MyDrive/Jonathan El-Beze dataset with augmentations/\"#Oxalate de calcium dihydrate (C2)/section/train/\"\n",
        "form=input(\"section or surface: \")\n",
        "jon=input(\"train or test in raw folder: \")\n",
        "for i in range(len(data)):\n",
        "    cont+=1\n",
        "    window=256\n",
        "    ov=data['overlap'][i]\n",
        "    try:\n",
        "      name_img=data['File name'][i]+'.jpg'\n",
        "      name_label=data['File name'][i]+'.png'\n",
        "#/content/drive/MyDrive/Kidney stones project/Michel Daudon (types and subtypes)/section/PixelLabelData\n",
        "\n",
        "      dir_name=dir_raw+typec+\"/\"+form+\"/\"+jon+\"/\"+name_img#cystinebis.jpg\"\n",
        "      dir_gt=dir_raw+typec+\"/PixelLabelData/\"+name_label#cystinebis.png\"\n",
        "      I=cv2.imread(dir_name)\n",
        "      (mI,nI,nnI)=I.shape\n",
        " #overlap\n",
        "    except:\n",
        "      try:\n",
        "          name_img=data['File name'][i]+'.JPG'\n",
        "          name_label=data['File name'][i]+'.png'\n",
        "\n",
        "          dir_name=dir_raw+typec+\"/\"+form+\"/\"+jon+\"/\"+name_img#cystinebis.jpg\"\n",
        "          dir_gt=dir_raw+typec+\"/PixelLabelData/\"+name_label#cystinebis.png\"\n",
        "          I=cv2.imread(dir_name)\n",
        "          (mI,nI,nnI)=I.shape\n",
        "      except:\n",
        "        try:\n",
        "          name_img=data['File name'][i]+'.tif'\n",
        "          name_label=data['File name'][i]+'.png'\n",
        "\n",
        "          dir_name=dir_raw+typec+\"/\"+form+\"/\"+jon+\"/\"+name_img#cystinebis.jpg\"\n",
        "          dir_gt=dir_raw+typec+\"/PixelLabelData/\"+name_label#cystinebis.png\"\n",
        "          I=cv2.imread(dir_name)\n",
        "          (mI,nI,nnI)=I.shape\n",
        "        except:\n",
        "\n",
        "          try:\n",
        "              name_img=data['File name'][i]+'.png'\n",
        "              name_label=data['File name'][i]+'.png'\n",
        "\n",
        "              dir_name=dir_raw+typec+\"/\"+form+\"/\"+jon+\"/\"+name_img#cystinebis.jpg\"\n",
        "              dir_gt=dir_raw+typec+\"/PixelLabelData/\"+name_label#cystinebis.png\"\n",
        "              I=cv2.imread(dir_name)\n",
        "              (mI,nI,nnI)=I.shape\n",
        "          except:\n",
        "              print(\"Image {} not found\".format(data['File name'][i]))\n",
        "\n",
        "\n",
        "    #General info and pre processing\n",
        "    I=cv2.imread(dir_name)\n",
        "    print(\"RGB \"+dir_name.split(\"/\")[-1])\n",
        "\n",
        "    (mI,nI,nnI)=I.shape\n",
        "    print(\"mI: \",mI,\"nI: \",nI,\"nnI: \", nnI)\n",
        "\n",
        "\n",
        "\n",
        "\n",
        "    GT=cv2.imread(dir_gt,0)\n",
        "    mGT,nGT=GT.shape\n",
        "\n",
        "\n",
        "    if (mGT,nGT)!=(mI,nI):\n",
        "      GT=cv2.transpose(cv2.imread(dir_gt,0))\n",
        "      GT=cv2.flip(GT,0)\n",
        "      mGT,nGT=GT.shape\n",
        "    else:\n",
        "      pass\n",
        "\n",
        "    print(\"mGT: \",mGT,\"nGT: \",nGT)\n",
        "    #Patches\n",
        "#/content/drive/MyDrive/Kidney stones project/Juan Pablo/dataset JEB/section/train/Oxalate de calcium dihydrate (C2)\n",
        "    dir_save=\"/content/drive/MyDrive/Kidney stones project/Juan Pablo/dataset JEB/\"+form+\"/\"+tt+\"/\"+typec+\"/\"+dir_name.split(\"/\")[-1].split(\".\",1)[0]+\"/\"\n",
        "    make_patches(ov,GT,I,mGT,nGT,window,dir_save,dir_name,percent_stone=90)\n",
        "print(cont)"
      ],
      "metadata": {
        "colab": {
          "base_uri": "https://localhost:8080/"
        },
        "id": "w_3V3rvi9mvJ",
        "outputId": "44d855a7-da7b-41e9-abaf-bfb9c977931f"
      },
      "execution_count": null,
      "outputs": [
        {
          "output_type": "stream",
          "name": "stdout",
          "text": [
            "folder name as it is in the drive:Phosphate de calcium (brushite - carbapatite)\n",
            "train or test?train\n",
            "section or surface: section\n",
            "train or test in raw folder: train\n",
            "RGB m6 - 34256 - section 1.jpg\n",
            "mI:  1080 nI:  1920 nnI:  3\n",
            "mGT:  1080 nGT:  1920\n",
            "Patches were saved\n",
            "RGB m3 - 34256 - section 1.jpg\n",
            "mI:  1080 nI:  1920 nnI:  3\n",
            "mGT:  1080 nGT:  1920\n",
            "Patches were saved\n",
            "RGB m4 - 34256 - section 1.jpg\n",
            "mI:  1080 nI:  1920 nnI:  3\n",
            "mGT:  1080 nGT:  1920\n",
            "Patches were saved\n",
            "RGB m5 - 34256 - section 1.jpg\n",
            "mI:  1080 nI:  1920 nnI:  3\n",
            "mGT:  1080 nGT:  1920\n",
            "Patches were saved\n",
            "RGB m6 - 34256 - section 2.jpg\n",
            "mI:  1080 nI:  1920 nnI:  3\n",
            "mGT:  1080 nGT:  1920\n",
            "Patches were saved\n",
            "RGB m5 - 34256 - section 2.jpg\n",
            "mI:  1080 nI:  1920 nnI:  3\n",
            "mGT:  1080 nGT:  1920\n",
            "Patches were saved\n",
            "RGB m4 - 34256 - section 2.jpg\n",
            "mI:  1080 nI:  1920 nnI:  3\n",
            "mGT:  1080 nGT:  1920\n",
            "Patches were saved\n",
            "RGB m3 - 34256 - section 2.jpg\n",
            "mI:  1080 nI:  1920 nnI:  3\n",
            "mGT:  1080 nGT:  1920\n",
            "Patches were saved\n",
            "RGB m1 - 34256 - section 2.jpg\n",
            "mI:  1080 nI:  1920 nnI:  3\n",
            "mGT:  1080 nGT:  1920\n",
            "Patches were saved\n",
            "RGB m4 - 35424 - section 1.jpg\n",
            "mI:  1080 nI:  1920 nnI:  3\n",
            "mGT:  1080 nGT:  1920\n",
            "Patches were saved\n",
            "RGB m5 - 35424 - section 1.jpg\n",
            "mI:  1080 nI:  1920 nnI:  3\n",
            "mGT:  1080 nGT:  1920\n",
            "Patches were saved\n",
            "RGB m3 - 35424 - section 1.jpg\n",
            "mI:  1080 nI:  1920 nnI:  3\n",
            "mGT:  1080 nGT:  1920\n",
            "Patches were saved\n",
            "RGB m6 - 35424 - section 1.jpg\n",
            "mI:  1080 nI:  1920 nnI:  3\n",
            "mGT:  1080 nGT:  1920\n",
            "Patches were saved\n",
            "RGB m1 - 35424 - section 1.jpg\n",
            "mI:  1080 nI:  1920 nnI:  3\n",
            "mGT:  1080 nGT:  1920\n",
            "Patches were saved\n",
            "RGB m5 - 35424 - section 2.jpg\n",
            "mI:  1080 nI:  1920 nnI:  3\n",
            "mGT:  1080 nGT:  1920\n",
            "Patches were saved\n",
            "RGB m1 - 35424 - section 2.jpg\n",
            "mI:  1080 nI:  1920 nnI:  3\n",
            "mGT:  1080 nGT:  1920\n",
            "Patches were saved\n",
            "RGB m3 - 35424 - section 2.jpg\n",
            "mI:  1080 nI:  1920 nnI:  3\n",
            "mGT:  1080 nGT:  1920\n",
            "Patches were saved\n",
            "RGB m6 - 35424 - section 2.jpg\n",
            "mI:  1080 nI:  1920 nnI:  3\n",
            "mGT:  1080 nGT:  1920\n",
            "Patches were saved\n",
            "18\n"
          ]
        }
      ]
    },
    {
      "cell_type": "code",
      "source": [
        "/content/drive/MyDrive/Kidney stones project/Jonathan El-Beze dataset/Acide urique/section/10237 - section 2.jpg"
      ],
      "metadata": {
        "id": "mnYqxdG_PL2F"
      },
      "execution_count": null,
      "outputs": []
    },
    {
      "cell_type": "code",
      "source": [
        "dir_name"
      ],
      "metadata": {
        "colab": {
          "base_uri": "https://localhost:8080/",
          "height": 53
        },
        "id": "8SjRYpRVLyR0",
        "outputId": "1f7baf94-44f5-4c49-c666-e9e8cc41df29"
      },
      "execution_count": null,
      "outputs": [
        {
          "output_type": "execute_result",
          "data": {
            "text/plain": [
              "'/content/drive/MyDrive/Kidney stones project/Michel Daudon (types and subtypes)/section/Section_IVa2/TypeIVa2_N9896-0001(2).tif'"
            ],
            "application/vnd.google.colaboratory.intrinsic+json": {
              "type": "string"
            }
          },
          "metadata": {},
          "execution_count": 42
        }
      ]
    },
    {
      "cell_type": "code",
      "source": [
        "/content/drive/MyDrive/Kidney stones project/Michel Daudon (types and subtypes)/section/Section_IVa2/TypbeIVa2_N9896-0001(2).jpg"
      ],
      "metadata": {
        "id": "6BKmf9_WLsCv"
      },
      "execution_count": null,
      "outputs": []
    },
    {
      "cell_type": "code",
      "source": [
        "I=cv2.imread(dir_name)\n",
        "print(\"RGB \"+dir_name.split(\"/\")[-1])\n",
        "\n",
        "(mI,nI,nnI)=I.shape\n",
        "print(\"mI: \",mI,\"nI: \",nI,\"nnI: \", nnI)\n",
        "\n",
        "#dir_gt=dir_labels+dir_name.replace(ext,'png').split(\"/\")[-1]\n",
        "\n",
        "\n",
        "GT=cv2.imread(dir_gt,0)\n",
        "mGT,nGT=GT.shape\n",
        "\n",
        "\n",
        "if (mGT,nGT)!=(mI,nI):\n",
        "  GT=cv2.transpose(cv2.imread(dir_gt,0))\n",
        "  GT=cv2.flip(GT,0)\n",
        "  mGT,nGT=GT.shape\n",
        "else:\n",
        "  pass\n",
        "\n",
        "print(\"mGT: \",mGT,\"nGT: \",nGT)\n",
        "#VER IMÁGENES\n",
        "#plt.figure()\n",
        "#plt.subplot(1,2,1)\n",
        "#plt.imshow(I)\n",
        "#plt.subplot(1,2,2)\n",
        "#plt.imshow(GT)"
      ],
      "metadata": {
        "colab": {
          "base_uri": "https://localhost:8080/"
        },
        "id": "M_4pKP8N3YvD",
        "outputId": "723a9aa8-e72a-4bcf-a48e-fa3bf9beac8b"
      },
      "execution_count": null,
      "outputs": [
        {
          "output_type": "stream",
          "name": "stdout",
          "text": [
            "RGB TypVa_6.jpg\n",
            "mI:  1944 nI:  1296 nnI:  3\n",
            "mGT:  1944 nGT:  1296\n"
          ]
        }
      ]
    },
    {
      "cell_type": "code",
      "source": [
        "dir_save=\"/content/drive/MyDrive/Kidney stones project/Juan Pablo/dataset/surface/train/\"+dir_name.split(\"/\")[-1].split(\".\",1)[0]+\"/\"\n",
        "dir_save"
      ],
      "metadata": {
        "colab": {
          "base_uri": "https://localhost:8080/",
          "height": 35
        },
        "id": "XiVFHHXw9TxA",
        "outputId": "aceef3e7-f7b1-4bef-d640-2a34236713a5"
      },
      "execution_count": null,
      "outputs": [
        {
          "output_type": "execute_result",
          "data": {
            "text/plain": [
              "'/content/drive/MyDrive/Kidney stones project/Juan Pablo/dataset/surface/train/TypVa_6/'"
            ],
            "application/vnd.google.colaboratory.intrinsic+json": {
              "type": "string"
            }
          },
          "metadata": {},
          "execution_count": 82
        }
      ]
    },
    {
      "cell_type": "code",
      "source": [
        "def make_patches(ov,GT,I,mGT,nGT,window,dir_save,dir_name,percent_stone):\n",
        "\n",
        "  if os.path.exists(dir_save):\n",
        "    # removing the file using the os.remove() method\n",
        "      print(\"Folder already exists\")\n",
        "      print(\"Deleting\")\n",
        "      shutil.rmtree(dir_save, ignore_errors=False, onerror=None) #Remove all folder if it already exists\n",
        "      print(\"Creating\")\n",
        "      os.mkdir(dir_save)\n",
        "  else:\n",
        "    os.mkdir(dir_save)\n",
        "\n",
        "  overlap=ov\n",
        "  cont_patch=0\n",
        "\n",
        "\n",
        "  for x in range(1,nGT-window+1,overlap):\n",
        "        #print(x)\n",
        "        for y in range(1,mGT-window+1,overlap):\n",
        "          if (x+window<mGT and y+window<nGT):\n",
        "            GTpatch=GT[x:x+window,y:y+window]\n",
        "          #  print(GTpatch.shape)\n",
        "            (mGTpatch,nGTpatch)=GTpatch.shape\n",
        "            Ipatch=I[x:x+window,y:y+window,:]\n",
        "            p_patch=(np.sum(GTpatch)/(mGTpatch*nGTpatch)*100)\n",
        "\n",
        "            if (p_patch>percent_stone):\n",
        "              cont_patch+=1\n",
        "             # print(dir_save+dir_name.split(\"/\")[-1].split(\".\",1)[0]+\"-\"+str(cont_patch)+\".png\")\n",
        "              cv2.imwrite(dir_save+dir_name.split(\"/\")[-1].split(\".\",1)[0]+\"-\"+str(cont_patch)+\".png\", Ipatch) #usar para guardar imágenes\n",
        "\n",
        " # print(dir_name+\"con overlap de \"+ str(overlap)+ \"con un total de \"+str(cont_patch)+\" patches\")\n",
        "\n",
        "\n",
        "  data = [window,dir_name.split(\".\",1)[0],cont_patch,ov]\n",
        "  print(\"Patches were saved\")\n",
        "  return data"
      ],
      "metadata": {
        "id": "D6FvKAZh1t6S"
      },
      "execution_count": null,
      "outputs": []
    },
    {
      "cell_type": "code",
      "source": [
        "make_patches(ov,GT,I,mGT,nGT,window,dir_save,dir_name,percent_stone=90)"
      ],
      "metadata": {
        "colab": {
          "base_uri": "https://localhost:8080/"
        },
        "id": "VBt6SvTi2OY9",
        "outputId": "da8f169c-128e-479a-acb5-9e2b79967aca"
      },
      "execution_count": null,
      "outputs": [
        {
          "output_type": "stream",
          "name": "stdout",
          "text": [
            "Folder already exists\n",
            "Deleting\n",
            "Creating\n",
            "/content/drive/MyDrive/Kidney stones project/Juan Pablo/dataset/surface/train/TypVa_6/TypVa_6-1.png\n",
            "/content/drive/MyDrive/Kidney stones project/Juan Pablo/dataset/surface/train/TypVa_6/TypVa_6-2.png\n",
            "/content/drive/MyDrive/Kidney stones project/Juan Pablo/dataset/surface/train/TypVa_6/TypVa_6-3.png\n",
            "/content/drive/MyDrive/Kidney stones project/Juan Pablo/dataset/surface/train/TypVa_6/TypVa_6-4.png\n",
            "/content/drive/MyDrive/Kidney stones project/Juan Pablo/dataset/surface/train/TypVa_6/TypVa_6-5.png\n",
            "/content/drive/MyDrive/Kidney stones project/Juan Pablo/dataset/surface/train/TypVa_6/TypVa_6-6.png\n",
            "/content/drive/MyDrive/Kidney stones project/Juan Pablo/dataset/surface/train/TypVa_6/TypVa_6-7.png\n",
            "/content/drive/MyDrive/Kidney stones project/Juan Pablo/dataset/surface/train/TypVa_6/TypVa_6-8.png\n",
            "/content/drive/MyDrive/Kidney stones project/Juan Pablo/dataset/surface/train/TypVa_6/TypVa_6-9.png\n",
            "/content/drive/MyDrive/Kidney stones project/Juan Pablo/dataset/surface/train/TypVa_6/TypVa_6-10.png\n",
            "/content/drive/MyDrive/Kidney stones project/Juan Pablo/dataset/surface/train/TypVa_6/TypVa_6-11.png\n",
            "/content/drive/MyDrive/Kidney stones project/Juan Pablo/dataset/surface/train/TypVa_6/TypVa_6-12.png\n",
            "/content/drive/MyDrive/Kidney stones project/Juan Pablo/dataset/surface/train/TypVa_6/TypVa_6-13.png\n",
            "/content/drive/MyDrive/Kidney stones project/Juan Pablo/dataset/surface/train/TypVa_6/TypVa_6-14.png\n",
            "/content/drive/MyDrive/Kidney stones project/Juan Pablo/dataset/surface/train/TypVa_6/TypVa_6-15.png\n",
            "/content/drive/MyDrive/Kidney stones project/Juan Pablo/dataset/surface/train/TypVa_6/TypVa_6-16.png\n",
            "/content/drive/MyDrive/Kidney stones project/Juan Pablo/dataset/surface/train/TypVa_6/TypVa_6-17.png\n",
            "/content/drive/MyDrive/Kidney stones project/Juan Pablo/dataset/surface/train/TypVa_6/TypVa_6-18.png\n",
            "/content/drive/MyDrive/Kidney stones project/Juan Pablo/dataset/surface/train/TypVa_6/TypVa_6-19.png\n",
            "/content/drive/MyDrive/Kidney stones project/Juan Pablo/dataset/surface/train/TypVa_6/TypVa_6-20.png\n",
            "/content/drive/MyDrive/Kidney stones project/Juan Pablo/dataset/surface/train/TypVa_6/TypVa_6-21.png\n",
            "/content/drive/MyDrive/Kidney stones project/Juan Pablo/dataset/surface/train/TypVa_6/TypVa_6-22.png\n",
            "/content/drive/MyDrive/Kidney stones project/Juan Pablo/dataset/surface/train/TypVa_6/TypVa_6-23.png\n",
            "/content/drive/MyDrive/Kidney stones project/Juan Pablo/dataset/surface/train/TypVa_6/TypVa_6-24.png\n",
            "/content/drive/MyDrive/Kidney stones project/Juan Pablo/dataset/surface/train/TypVa_6/TypVa_6-25.png\n",
            "/content/drive/MyDrive/Kidney stones project/Juan Pablo/dataset/surface/train/TypVa_6/TypVa_6-26.png\n",
            "/content/drive/MyDrive/Kidney stones project/Juan Pablo/dataset/surface/train/TypVa_6/TypVa_6-27.png\n",
            "/content/drive/MyDrive/Kidney stones project/Juan Pablo/dataset/surface/train/TypVa_6/TypVa_6-28.png\n",
            "/content/drive/MyDrive/Kidney stones project/Juan Pablo/dataset/surface/train/TypVa_6/TypVa_6-29.png\n",
            "/content/drive/MyDrive/Kidney stones project/Juan Pablo/dataset/surface/train/TypVa_6/TypVa_6-30.png\n",
            "/content/drive/MyDrive/Kidney stones project/Juan Pablo/dataset/surface/train/TypVa_6/TypVa_6-31.png\n",
            "/content/drive/MyDrive/Kidney stones project/Juan Pablo/dataset/surface/train/TypVa_6/TypVa_6-32.png\n",
            "/content/drive/MyDrive/Kidney stones project/Juan Pablo/dataset/surface/train/TypVa_6/TypVa_6-33.png\n",
            "/content/drive/MyDrive/Kidney stones project/Juan Pablo/dataset/surface/train/TypVa_6/TypVa_6-34.png\n",
            "/content/drive/MyDrive/Kidney stones project/Juan Pablo/dataset/surface/train/TypVa_6/TypVa_6-35.png\n",
            "/content/drive/MyDrive/Kidney stones project/Juan Pablo/dataset/surface/train/TypVa_6/TypVa_6-36.png\n",
            "/content/drive/MyDrive/Kidney stones project/Juan Pablo/dataset/surface/train/TypVa_6/TypVa_6-37.png\n",
            "/content/drive/MyDrive/Kidney stones project/Michel Daudon (types and subtypes)/surface/Type Va/TypVa_6.jpgcon overlap de 114con un total de 37 patches\n",
            "Patches were saved\n"
          ]
        },
        {
          "output_type": "execute_result",
          "data": {
            "text/plain": [
              "[256,\n",
              " '/content/drive/MyDrive/Kidney stones project/Michel Daudon (types and subtypes)/surface/Type Va/TypVa_6',\n",
              " 37,\n",
              " 114]"
            ]
          },
          "metadata": {},
          "execution_count": 84
        }
      ]
    },
    {
      "cell_type": "code",
      "source": [],
      "metadata": {
        "id": "JNUC5Qw7DoOw"
      },
      "execution_count": null,
      "outputs": []
    }
  ]
}